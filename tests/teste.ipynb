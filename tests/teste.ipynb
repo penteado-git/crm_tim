{
 "cells": [
  {
   "cell_type": "code",
   "execution_count": 7,
   "metadata": {},
   "outputs": [],
   "source": [
    "from dataclasses import dataclass\n",
    "\n",
    "\n",
    "@dataclass\n",
    "class Teste:\n",
    "    t: str\n",
    "    \n",
    "\n",
    "    def hello(self, name):\n",
    "        print(f\"Hello {name}!\")\n"
   ]
  },
  {
   "cell_type": "code",
   "execution_count": 8,
   "metadata": {},
   "outputs": [],
   "source": [
    "t = Teste('Oi')"
   ]
  },
  {
   "cell_type": "code",
   "execution_count": 13,
   "metadata": {},
   "outputs": [
    {
     "name": "stdout",
     "output_type": "stream",
     "text": [
      "Hello Teste!\n"
     ]
    }
   ],
   "source": [
    "getattr(t, 'hello')(\"Teste\")"
   ]
  },
  {
   "cell_type": "code",
   "execution_count": 1,
   "metadata": {},
   "outputs": [
    {
     "ename": "DecodeError",
     "evalue": "It is required that you pass in a value for the \"algorithms\" argument when calling decode().",
     "output_type": "error",
     "traceback": [
      "\u001b[0;31m---------------------------------------------------------------------------\u001b[0m",
      "\u001b[0;31mDecodeError\u001b[0m                               Traceback (most recent call last)",
      "\u001b[1;32m/home/guilherme/guisa/aliest/nocode/app_tim/teste.ipynb Cell 4\u001b[0m line \u001b[0;36m4\n\u001b[1;32m      <a href='vscode-notebook-cell:/home/guilherme/guisa/aliest/nocode/app_tim/teste.ipynb#W3sZmlsZQ%3D%3D?line=0'>1</a>\u001b[0m \u001b[39mimport\u001b[39;00m \u001b[39mjwt\u001b[39;00m\n\u001b[0;32m----> <a href='vscode-notebook-cell:/home/guilherme/guisa/aliest/nocode/app_tim/teste.ipynb#W3sZmlsZQ%3D%3D?line=3'>4</a>\u001b[0m jwt\u001b[39m.\u001b[39;49mdecode(\u001b[39m'\u001b[39;49m\u001b[39meyJhbGciOiJIUzI1NiJ9.eyJSb2xlIjoiQWRtaW4iLCJJc3N1ZXIiOiJJc3N1ZXIiLCJVc2VybmFtZSI6IkphdmFJblVzZSIsImV4cCI6MTcwMTg3OTY1MSwiaWF0IjoxNzAxODc4NTExfQ\u001b[39;49m\u001b[39m'\u001b[39;49m)\n",
      "File \u001b[0;32m/usr/lib/python3/dist-packages/jwt/api_jwt.py:119\u001b[0m, in \u001b[0;36mPyJWT.decode\u001b[0;34m(self, jwt, key, algorithms, options, **kwargs)\u001b[0m\n\u001b[1;32m    111\u001b[0m \u001b[39mdef\u001b[39;00m \u001b[39mdecode\u001b[39m(\n\u001b[1;32m    112\u001b[0m     \u001b[39mself\u001b[39m,\n\u001b[1;32m    113\u001b[0m     jwt: \u001b[39mstr\u001b[39m,\n\u001b[0;32m   (...)\u001b[0m\n\u001b[1;32m    117\u001b[0m     \u001b[39m*\u001b[39m\u001b[39m*\u001b[39mkwargs,\n\u001b[1;32m    118\u001b[0m ) \u001b[39m-\u001b[39m\u001b[39m>\u001b[39m Dict[\u001b[39mstr\u001b[39m, Any]:\n\u001b[0;32m--> 119\u001b[0m     decoded \u001b[39m=\u001b[39m \u001b[39mself\u001b[39;49m\u001b[39m.\u001b[39;49mdecode_complete(jwt, key, algorithms, options, \u001b[39m*\u001b[39;49m\u001b[39m*\u001b[39;49mkwargs)\n\u001b[1;32m    120\u001b[0m     \u001b[39mreturn\u001b[39;00m decoded[\u001b[39m\"\u001b[39m\u001b[39mpayload\u001b[39m\u001b[39m\"\u001b[39m]\n",
      "File \u001b[0;32m/usr/lib/python3/dist-packages/jwt/api_jwt.py:86\u001b[0m, in \u001b[0;36mPyJWT.decode_complete\u001b[0;34m(self, jwt, key, algorithms, options, **kwargs)\u001b[0m\n\u001b[1;32m     83\u001b[0m     options\u001b[39m.\u001b[39msetdefault(\u001b[39m\"\u001b[39m\u001b[39mverify_iss\u001b[39m\u001b[39m\"\u001b[39m, \u001b[39mFalse\u001b[39;00m)\n\u001b[1;32m     85\u001b[0m \u001b[39mif\u001b[39;00m options[\u001b[39m\"\u001b[39m\u001b[39mverify_signature\u001b[39m\u001b[39m\"\u001b[39m] \u001b[39mand\u001b[39;00m \u001b[39mnot\u001b[39;00m algorithms:\n\u001b[0;32m---> 86\u001b[0m     \u001b[39mraise\u001b[39;00m DecodeError(\n\u001b[1;32m     87\u001b[0m         \u001b[39m'\u001b[39m\u001b[39mIt is required that you pass in a value for the \u001b[39m\u001b[39m\"\u001b[39m\u001b[39malgorithms\u001b[39m\u001b[39m\"\u001b[39m\u001b[39m argument when calling decode().\u001b[39m\u001b[39m'\u001b[39m\n\u001b[1;32m     88\u001b[0m     )\n\u001b[1;32m     90\u001b[0m decoded \u001b[39m=\u001b[39m api_jws\u001b[39m.\u001b[39mdecode_complete(\n\u001b[1;32m     91\u001b[0m     jwt,\n\u001b[1;32m     92\u001b[0m     key\u001b[39m=\u001b[39mkey,\n\u001b[0;32m   (...)\u001b[0m\n\u001b[1;32m     95\u001b[0m     \u001b[39m*\u001b[39m\u001b[39m*\u001b[39mkwargs,\n\u001b[1;32m     96\u001b[0m )\n\u001b[1;32m     98\u001b[0m \u001b[39mtry\u001b[39;00m:\n",
      "\u001b[0;31mDecodeError\u001b[0m: It is required that you pass in a value for the \"algorithms\" argument when calling decode()."
     ]
    }
   ],
   "source": [
    "import jwt\n",
    "\n",
    "\n",
    "jwt.decode('eyJhbGciOiJIUzI1NiJ9.eyJSb2xlIjoiQWRtaW4iLCJJc3N1ZXIiOiJJc3N1ZXIiLCJVc2VybmFtZSI6IkphdmFJblVzZSIsImV4cCI6MTcwMTg3OTY1MSwiaWF0IjoxNzAxODc4NTExfQ')"
   ]
  }
 ],
 "metadata": {
  "kernelspec": {
   "display_name": "Python 3",
   "language": "python",
   "name": "python3"
  },
  "language_info": {
   "codemirror_mode": {
    "name": "ipython",
    "version": 3
   },
   "file_extension": ".py",
   "mimetype": "text/x-python",
   "name": "python",
   "nbconvert_exporter": "python",
   "pygments_lexer": "ipython3",
   "version": "3.10.12"
  }
 },
 "nbformat": 4,
 "nbformat_minor": 2
}
